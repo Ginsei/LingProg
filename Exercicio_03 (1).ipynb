{
 "cells": [
  {
   "cell_type": "markdown",
   "metadata": {},
   "source": [
    "2 . Faça um Programa que verifque se uma letra digitada é vogal ou\n",
    "consoante."
   ]
  },
  {
   "cell_type": "code",
   "execution_count": 3,
   "metadata": {},
   "outputs": [
    {
     "name": "stdin",
     "output_type": "stream",
     "text": [
      "Digite uma letra a i o u\n"
     ]
    },
    {
     "name": "stdout",
     "output_type": "stream",
     "text": [
      "Não, não é uma vogal\n"
     ]
    }
   ],
   "source": [
    "vogais = 'aeiou'\n",
    "letra = input(\"Digite uma letra\")\n",
    "if letra in vogais:\n",
    "    print (\"Sim, é uma vogal\")\n",
    "else:\n",
    "    print(\"Não, não é uma vogal\")"
   ]
  },
  {
   "cell_type": "markdown",
   "metadata": {},
   "source": [
    "4 . Faça um Programa que leia três números e mostre-os em ordem\n",
    "decrescente."
   ]
  },
  {
   "cell_type": "code",
   "execution_count": 9,
   "metadata": {},
   "outputs": [
    {
     "name": "stdin",
     "output_type": "stream",
     "text": [
      "Digite separada por espaço 1 2 3\n"
     ]
    },
    {
     "name": "stdout",
     "output_type": "stream",
     "text": [
      "3 2 1\n"
     ]
    }
   ],
   "source": [
    "lista = [int(x) for x in input (\"Digite separada por espaço\").split()]\n",
    "#print (lista)\n",
    "if lista[0] > lista [1]:\n",
    "    if lista[0] > lista[2]:\n",
    "        if lista [1] > lista [2]:\n",
    "            print (lista[0], lista [1], lista[2])\n",
    "        else:\n",
    "            print (lista[0], lista [2], lista[1])\n",
    "    else:\n",
    "        print (lista[2], lista[0], lista[1])\n",
    "else:\n",
    "    if lista[1] > lista[2]:\n",
    "        if lista [2] > lista[0]:\n",
    "            print (lista[1], lista[2], lista[0])\n",
    "        else:\n",
    "            print (lista[1], lista[0], lista[2])\n",
    "    else:\n",
    "        print (lista[2], lista[1], lista[0])"
   ]
  },
  {
   "cell_type": "code",
   "execution_count": 17,
   "metadata": {},
   "outputs": [
    {
     "ename": "SyntaxError",
     "evalue": "keyword can't be an expression (<ipython-input-17-106dfb18f01f>, line 1)",
     "output_type": "error",
     "traceback": [
      "\u001b[0;36m  File \u001b[0;32m\"<ipython-input-17-106dfb18f01f>\"\u001b[0;36m, line \u001b[0;32m1\u001b[0m\n\u001b[0;31m    print (sorted([int(x) for x in input (\"Digite separado por espaço\").split()]).reverse=True)\u001b[0m\n\u001b[0m          ^\u001b[0m\n\u001b[0;31mSyntaxError\u001b[0m\u001b[0;31m:\u001b[0m keyword can't be an expression\n"
     ]
    }
   ],
   "source": [
    "print (sorted([int(x) for x in input (\"Digite separado por espaço\").split()]).reverse=True)"
   ]
  },
  {
   "cell_type": "markdown",
   "metadata": {},
   "source": [
    "6 . Faça um Programa que leia um número e exiba o dia\n",
    "correspondente da semana. (1-Domingo, 2- Segunda, etc.), se\n",
    "digitar outro valor deve aparecer valor inválido"
   ]
  },
  {
   "cell_type": "code",
   "execution_count": 15,
   "metadata": {},
   "outputs": [
    {
     "name": "stdin",
     "output_type": "stream",
     "text": [
      "Digite o dia 5\n"
     ]
    },
    {
     "name": "stdout",
     "output_type": "stream",
     "text": [
      "Quinta\n"
     ]
    }
   ],
   "source": [
    "dias = {\n",
    "    1: \"Domingo\",\n",
    "    2: \"Segunda\",\n",
    "    3: \"Terça\",\n",
    "    4: \"Quarta\",\n",
    "    5: \"Quinta\",\n",
    "    6: \"Sexta\",\n",
    "    7: \"Sábado\"\n",
    "}\n",
    "dia = int (input (\"Digite o dia\"))\n",
    "if dia < 1 or dia > 7:\n",
    "    print(\"Fora do intervalo\")\n",
    "else:\n",
    "    print (dias[dia])"
   ]
  },
  {
   "cell_type": "markdown",
   "metadata": {},
   "source": [
    "8 . Faça um Programa que peça os 3 lados de um triângulo. O\n",
    "programa deverá informar se os valores podem ser um triângulo.\n",
    "Indique, caso os lados formem um triângulo, se o mesmo é:\n",
    "equilátero, isósceles ou escaleno.\n",
    "Dicas:\n",
    "- Três lados formam um triângulo quando a soma de quaisquer dois\n",
    "lados for maior que o terceiro;\n",
    "- Triângulo Equilátero: três lados iguais;\n",
    "- Triângulo Isósceles: quaisquer dois lados iguais;\n",
    "- Triângulo Escaleno: três lados diferentes;"
   ]
  },
  {
   "cell_type": "code",
   "execution_count": 22,
   "metadata": {},
   "outputs": [
    {
     "ename": "KeyboardInterrupt",
     "evalue": "",
     "output_type": "error",
     "traceback": [
      "\u001b[0;31m---------------------------------------------------------------------------\u001b[0m",
      "\u001b[0;31mKeyboardInterrupt\u001b[0m                         Traceback (most recent call last)",
      "\u001b[0;32m/srv/conda/lib/python3.6/site-packages/ipykernel/kernelbase.py\u001b[0m in \u001b[0;36m_input_request\u001b[0;34m(self, prompt, ident, parent, password)\u001b[0m\n\u001b[1;32m    726\u001b[0m             \u001b[0;32mtry\u001b[0m\u001b[0;34m:\u001b[0m\u001b[0;34m\u001b[0m\u001b[0m\n\u001b[0;32m--> 727\u001b[0;31m                 \u001b[0mident\u001b[0m\u001b[0;34m,\u001b[0m \u001b[0mreply\u001b[0m \u001b[0;34m=\u001b[0m \u001b[0mself\u001b[0m\u001b[0;34m.\u001b[0m\u001b[0msession\u001b[0m\u001b[0;34m.\u001b[0m\u001b[0mrecv\u001b[0m\u001b[0;34m(\u001b[0m\u001b[0mself\u001b[0m\u001b[0;34m.\u001b[0m\u001b[0mstdin_socket\u001b[0m\u001b[0;34m,\u001b[0m \u001b[0;36m0\u001b[0m\u001b[0;34m)\u001b[0m\u001b[0;34m\u001b[0m\u001b[0m\n\u001b[0m\u001b[1;32m    728\u001b[0m             \u001b[0;32mexcept\u001b[0m \u001b[0mException\u001b[0m\u001b[0;34m:\u001b[0m\u001b[0;34m\u001b[0m\u001b[0m\n",
      "\u001b[0;32m/srv/conda/lib/python3.6/site-packages/jupyter_client/session.py\u001b[0m in \u001b[0;36mrecv\u001b[0;34m(self, socket, mode, content, copy)\u001b[0m\n\u001b[1;32m    802\u001b[0m         \u001b[0;32mtry\u001b[0m\u001b[0;34m:\u001b[0m\u001b[0;34m\u001b[0m\u001b[0m\n\u001b[0;32m--> 803\u001b[0;31m             \u001b[0mmsg_list\u001b[0m \u001b[0;34m=\u001b[0m \u001b[0msocket\u001b[0m\u001b[0;34m.\u001b[0m\u001b[0mrecv_multipart\u001b[0m\u001b[0;34m(\u001b[0m\u001b[0mmode\u001b[0m\u001b[0;34m,\u001b[0m \u001b[0mcopy\u001b[0m\u001b[0;34m=\u001b[0m\u001b[0mcopy\u001b[0m\u001b[0;34m)\u001b[0m\u001b[0;34m\u001b[0m\u001b[0m\n\u001b[0m\u001b[1;32m    804\u001b[0m         \u001b[0;32mexcept\u001b[0m \u001b[0mzmq\u001b[0m\u001b[0;34m.\u001b[0m\u001b[0mZMQError\u001b[0m \u001b[0;32mas\u001b[0m \u001b[0me\u001b[0m\u001b[0;34m:\u001b[0m\u001b[0;34m\u001b[0m\u001b[0m\n",
      "\u001b[0;32m/srv/conda/lib/python3.6/site-packages/zmq/sugar/socket.py\u001b[0m in \u001b[0;36mrecv_multipart\u001b[0;34m(self, flags, copy, track)\u001b[0m\n\u001b[1;32m    465\u001b[0m         \"\"\"\n\u001b[0;32m--> 466\u001b[0;31m         \u001b[0mparts\u001b[0m \u001b[0;34m=\u001b[0m \u001b[0;34m[\u001b[0m\u001b[0mself\u001b[0m\u001b[0;34m.\u001b[0m\u001b[0mrecv\u001b[0m\u001b[0;34m(\u001b[0m\u001b[0mflags\u001b[0m\u001b[0;34m,\u001b[0m \u001b[0mcopy\u001b[0m\u001b[0;34m=\u001b[0m\u001b[0mcopy\u001b[0m\u001b[0;34m,\u001b[0m \u001b[0mtrack\u001b[0m\u001b[0;34m=\u001b[0m\u001b[0mtrack\u001b[0m\u001b[0;34m)\u001b[0m\u001b[0;34m]\u001b[0m\u001b[0;34m\u001b[0m\u001b[0m\n\u001b[0m\u001b[1;32m    467\u001b[0m         \u001b[0;31m# have first part already, only loop while more to receive\u001b[0m\u001b[0;34m\u001b[0m\u001b[0;34m\u001b[0m\u001b[0m\n",
      "\u001b[0;32mzmq/backend/cython/socket.pyx\u001b[0m in \u001b[0;36mzmq.backend.cython.socket.Socket.recv\u001b[0;34m()\u001b[0m\n",
      "\u001b[0;32mzmq/backend/cython/socket.pyx\u001b[0m in \u001b[0;36mzmq.backend.cython.socket.Socket.recv\u001b[0;34m()\u001b[0m\n",
      "\u001b[0;32mzmq/backend/cython/socket.pyx\u001b[0m in \u001b[0;36mzmq.backend.cython.socket._recv_copy\u001b[0;34m()\u001b[0m\n",
      "\u001b[0;32m/srv/conda/lib/python3.6/site-packages/zmq/backend/cython/checkrc.pxd\u001b[0m in \u001b[0;36mzmq.backend.cython.checkrc._check_rc\u001b[0;34m()\u001b[0m\n",
      "\u001b[0;31mKeyboardInterrupt\u001b[0m: ",
      "\nDuring handling of the above exception, another exception occurred:\n",
      "\u001b[0;31mKeyboardInterrupt\u001b[0m                         Traceback (most recent call last)",
      "\u001b[0;32m<ipython-input-22-de9016d3c789>\u001b[0m in \u001b[0;36m<module>\u001b[0;34m()\u001b[0m\n\u001b[0;32m----> 1\u001b[0;31m \u001b[0ma\u001b[0m \u001b[0;34m=\u001b[0m \u001b[0mfloat\u001b[0m\u001b[0;34m(\u001b[0m\u001b[0minput\u001b[0m \u001b[0;34m(\u001b[0m\u001b[0;34m\"Digite lado 1\"\u001b[0m\u001b[0;34m)\u001b[0m\u001b[0;34m)\u001b[0m\u001b[0;34m\u001b[0m\u001b[0m\n\u001b[0m\u001b[1;32m      2\u001b[0m \u001b[0mb\u001b[0m \u001b[0;34m=\u001b[0m \u001b[0mfloat\u001b[0m\u001b[0;34m(\u001b[0m\u001b[0minput\u001b[0m \u001b[0;34m(\u001b[0m\u001b[0;34m\"Digite lado 2\"\u001b[0m\u001b[0;34m)\u001b[0m\u001b[0;34m)\u001b[0m\u001b[0;34m\u001b[0m\u001b[0m\n\u001b[1;32m      3\u001b[0m \u001b[0mc\u001b[0m \u001b[0;34m=\u001b[0m \u001b[0mfloat\u001b[0m\u001b[0;34m(\u001b[0m\u001b[0minput\u001b[0m \u001b[0;34m(\u001b[0m\u001b[0;34m\"Digite lado 3\"\u001b[0m\u001b[0;34m)\u001b[0m\u001b[0;34m)\u001b[0m\u001b[0;34m\u001b[0m\u001b[0m\n\u001b[1;32m      4\u001b[0m \u001b[0;32mif\u001b[0m \u001b[0ma\u001b[0m \u001b[0;34m+\u001b[0m \u001b[0mb\u001b[0m \u001b[0;34m>\u001b[0m \u001b[0mc\u001b[0m \u001b[0;32mand\u001b[0m \u001b[0ma\u001b[0m \u001b[0;34m+\u001b[0m \u001b[0mc\u001b[0m \u001b[0;34m>\u001b[0m \u001b[0mb\u001b[0m \u001b[0;32mand\u001b[0m \u001b[0mb\u001b[0m \u001b[0;34m+\u001b[0m \u001b[0mc\u001b[0m \u001b[0;34m>\u001b[0m \u001b[0ma\u001b[0m\u001b[0;34m:\u001b[0m\u001b[0;34m\u001b[0m\u001b[0m\n\u001b[1;32m      5\u001b[0m     \u001b[0;32mif\u001b[0m \u001b[0ma\u001b[0m \u001b[0;34m==\u001b[0m \u001b[0mb\u001b[0m \u001b[0;32mand\u001b[0m \u001b[0ma\u001b[0m \u001b[0;34m==\u001b[0m \u001b[0mc\u001b[0m\u001b[0;34m:\u001b[0m\u001b[0;34m\u001b[0m\u001b[0m\n",
      "\u001b[0;32m/srv/conda/lib/python3.6/site-packages/ipykernel/kernelbase.py\u001b[0m in \u001b[0;36mraw_input\u001b[0;34m(self, prompt)\u001b[0m\n\u001b[1;32m    700\u001b[0m             \u001b[0mself\u001b[0m\u001b[0;34m.\u001b[0m\u001b[0m_parent_ident\u001b[0m\u001b[0;34m,\u001b[0m\u001b[0;34m\u001b[0m\u001b[0m\n\u001b[1;32m    701\u001b[0m             \u001b[0mself\u001b[0m\u001b[0;34m.\u001b[0m\u001b[0m_parent_header\u001b[0m\u001b[0;34m,\u001b[0m\u001b[0;34m\u001b[0m\u001b[0m\n\u001b[0;32m--> 702\u001b[0;31m             \u001b[0mpassword\u001b[0m\u001b[0;34m=\u001b[0m\u001b[0;32mFalse\u001b[0m\u001b[0;34m,\u001b[0m\u001b[0;34m\u001b[0m\u001b[0m\n\u001b[0m\u001b[1;32m    703\u001b[0m         )\n\u001b[1;32m    704\u001b[0m \u001b[0;34m\u001b[0m\u001b[0m\n",
      "\u001b[0;32m/srv/conda/lib/python3.6/site-packages/ipykernel/kernelbase.py\u001b[0m in \u001b[0;36m_input_request\u001b[0;34m(self, prompt, ident, parent, password)\u001b[0m\n\u001b[1;32m    730\u001b[0m             \u001b[0;32mexcept\u001b[0m \u001b[0mKeyboardInterrupt\u001b[0m\u001b[0;34m:\u001b[0m\u001b[0;34m\u001b[0m\u001b[0m\n\u001b[1;32m    731\u001b[0m                 \u001b[0;31m# re-raise KeyboardInterrupt, to truncate traceback\u001b[0m\u001b[0;34m\u001b[0m\u001b[0;34m\u001b[0m\u001b[0m\n\u001b[0;32m--> 732\u001b[0;31m                 \u001b[0;32mraise\u001b[0m \u001b[0mKeyboardInterrupt\u001b[0m\u001b[0;34m\u001b[0m\u001b[0m\n\u001b[0m\u001b[1;32m    733\u001b[0m             \u001b[0;32melse\u001b[0m\u001b[0;34m:\u001b[0m\u001b[0;34m\u001b[0m\u001b[0m\n\u001b[1;32m    734\u001b[0m                 \u001b[0;32mbreak\u001b[0m\u001b[0;34m\u001b[0m\u001b[0m\n",
      "\u001b[0;31mKeyboardInterrupt\u001b[0m: "
     ]
    }
   ],
   "source": [
    "a = float(input (\"Digite lado 1\"))\n",
    "b = float(input (\"Digite lado 2\"))\n",
    "c = float(input (\"Digite lado 3\"))\n",
    "if a + b > c and a + c > b and b + c > a:\n",
    "    if a == b and a == c:\n",
    "        print(\"É um Equilátero\")\n",
    "    elif a == b or a == c:\n",
    "        print(\"É um Isósceles\")\n",
    "    else:\n",
    "        print(\"É um Escaleno\")\n",
    "else:\n",
    "    print(\"Não podem formar um triângulo\")"
   ]
  },
  {
   "cell_type": "markdown",
   "metadata": {},
   "source": [
    "10 . Faça um Programa para um caixa eletrônico. O programa\n",
    "deverá perguntar ao usuário a valor do saque e depois informar\n",
    "quantas notas de cada valor serão fornecidas. As notas disponíveis\n",
    "serão as de 1, 5, 10, 50 e 100 reais. O valor mínimo é de 10 reais e\n",
    "o máximo de 600 reais. O programa não deve se preocupar com a\n",
    "quantidade de notas existentes na máquina.\n",
    "- Exemplo 1: Para sacar a quantia de 256 reais, o programa fornece\n",
    "duas notas de 100, uma nota de 50, uma nota de 5 e uma nota de\n",
    "1;\n",
    "- Exemplo 2: Para sacar a quantia de 399 reais, o programa fornece\n",
    "três notas de 100, uma nota de 50, quatro notas de 10, uma nota de\n",
    "5 e quatro notas de 1.\n"
   ]
  },
  {
   "cell_type": "code",
   "execution_count": 32,
   "metadata": {},
   "outputs": [
    {
     "name": "stdin",
     "output_type": "stream",
     "text": [
      "Digite o valor para ser sacado 524\n"
     ]
    },
    {
     "name": "stdout",
     "output_type": "stream",
     "text": [
      "Nota 100 =  5 \n",
      "Nota 50 =  0 \n",
      "Nota 10 =  2 \n",
      "Nota 5 =  0 \n",
      "Nota 1 4\n"
     ]
    }
   ],
   "source": [
    "saque = int(input(\"Digite o valor para ser sacado\"))\n",
    "if saque >= 10 and saque <= 600:\n",
    "    n100 = saque // 100\n",
    "    r100 = saque % 100\n",
    "    n50 = r100 // 50\n",
    "    r50 = r100 % 50\n",
    "    n10 = r50 // 10\n",
    "    r10 = r50 % 10\n",
    "    n5 = r10 // 5\n",
    "    r5 = r10 % 5\n",
    "    n1 = r5 // 1\n",
    "    print(\"Nota 100 = \", n100 ,\"\\nNota 50 = \", n50, \"\\nNota 10 = \", n10, \"\\nNota 5 = \",  n5,\"\\nNota 1\", n1)\n",
    "else:\n",
    "    print(\"Não vai rolar\")"
   ]
  },
  {
   "cell_type": "markdown",
   "metadata": {},
   "source": [
    "12 . Uma fruteira está vendendo frutas com a seguinte tabela de\n",
    "preços:\n",
    "            Até 5 Kg Acima de 5 Kg\n",
    "Morango R$ 2,50 por Kg R$ 2,20 por Kg\n",
    "Maçã R$ 1,80 por Kg R$ 1,50 por Kg\n",
    "\n",
    "Se o cliente comprar mais de 8 Kg em frutas ou o valor total da\n",
    "compra ultrapassar R$ 25,00, receberá ainda um desconto de 10%\n",
    "sobre este total. Escreva um algoritmo para ler a quantidade (em\n",
    "Kg) de morangos e a quantidade (em Kg) de maças adquiridas e\n",
    "escreva o valor a ser pago pelo cliente."
   ]
  },
  {
   "cell_type": "code",
   "execution_count": 34,
   "metadata": {},
   "outputs": [
    {
     "name": "stdin",
     "output_type": "stream",
     "text": [
      "Quantos kg de maça 6\n",
      "Quantos kg de morango 9\n"
     ]
    },
    {
     "name": "stdout",
     "output_type": "stream",
     "text": [
      "Você vai pagar: R$25.92\n"
     ]
    }
   ],
   "source": [
    "maca = float(input(\"Quantos kg de maça\"))\n",
    "morango = float (input(\"Quantos kg de morango\"))\n",
    "if maca <= 5:\n",
    "    total_maca = maca * 1.8\n",
    "else:\n",
    "    total_maca = maca * 1.5\n",
    "\n",
    "if morango <= 5:\n",
    "    total_morango = morango * 2.5\n",
    "else:\n",
    "    total_morango = morango * 2.2\n",
    "\n",
    "total_quilos = morango + maca\n",
    "preco_final = total_maca + total_morango\n",
    "\n",
    "if total_quilos > 8 or preco_final > 25:\n",
    "    preco_final = preco_final * 0.9\n",
    "    \n",
    "print (f\"Você vai pagar: R${preco_final}\")"
   ]
  },
  {
   "cell_type": "markdown",
   "metadata": {},
   "source": [
    "13.2. Faça um programa que leia e valide as seguintes informações:\n",
    "Nome: maior que 3 caracteres;\n",
    "Idade: entre 0 e 150;\n",
    "Salário: maior que zero;\n",
    "Sexo: 'f' ou 'm';\n",
    "Estado Civil: 's', 'c', 'v', 'd';"
   ]
  },
  {
   "cell_type": "code",
   "execution_count": 39,
   "metadata": {},
   "outputs": [
    {
     "name": "stdin",
     "output_type": "stream",
     "text": [
      "Digite o nome \n",
      "Digite a idade 12\n",
      "Digite o salário 12\n",
      "Digite o sexo m\n",
      "Digite o estado civil s\n"
     ]
    }
   ],
   "source": [
    "valid = True\n",
    "while valid:\n",
    "    nome = input(\"Digite o nome\")\n",
    "    idade = int(input(\"Digite a idade\"))\n",
    "    salario = float(input(\"Digite o salário\"))\n",
    "    sexo = input(\"Digite o sexo\")\n",
    "    est_civil = input(\"Digite o estado civil\")\n",
    "    \n",
    "    if len(nome) > 3 and idade >= 0 and idade <= 150 and salario > 0 and sexo in 'fm' and est_civil in 'scvd':\n",
    "        print(\"Esse passou\")\n",
    "    else:\n",
    "        valid = not valid"
   ]
  },
  {
   "cell_type": "markdown",
   "metadata": {},
   "source": [
    "15 . Faça um programa que leia 5 números e informe a soma e a\n",
    "média dos números."
   ]
  },
  {
   "cell_type": "code",
   "execution_count": 41,
   "metadata": {},
   "outputs": [
    {
     "name": "stdin",
     "output_type": "stream",
     "text": [
      "Digite o valor 1\n",
      "Digite o valor 2\n",
      "Digite o valor 3\n",
      "Digite o valor 4\n",
      "Digite o valor 5\n"
     ]
    },
    {
     "name": "stdout",
     "output_type": "stream",
     "text": [
      "15.0 3.0\n"
     ]
    }
   ],
   "source": [
    "soma = 0\n",
    "for i in range (5):\n",
    "    soma += float (input(\"Digite o valor\"))\n",
    "print (soma, soma/5)"
   ]
  },
  {
   "cell_type": "markdown",
   "metadata": {},
   "source": [
    "<h1> EXERCICIOS IMPARES </h1>"
   ]
  },
  {
   "cell_type": "markdown",
   "metadata": {},
   "source": [
    "1. Faça um Programa que peça dois números e imprima o maior\n",
    "deles."
   ]
  },
  {
   "cell_type": "code",
   "execution_count": 8,
   "metadata": {},
   "outputs": [
    {
     "name": "stdin",
     "output_type": "stream",
     "text": [
      "Digite um numero aqui 52\n",
      "Digite outro numero aqui 51\n"
     ]
    },
    {
     "name": "stdout",
     "output_type": "stream",
     "text": [
      "52\n"
     ]
    }
   ],
   "source": [
    "n1 = int(input(\"Digite um numero aqui\"))\n",
    "n2 = int(input(\"Digite outro numero aqui\"))\n",
    "\n",
    "lista = [n1, n2]\n",
    "\n",
    "print (max(lista))"
   ]
  },
  {
   "cell_type": "markdown",
   "metadata": {},
   "source": [
    "3 . Faça um programa para a leitura de duas notas parciais de um\n",
    "aluno. O programa deve calcular a média alcançada por aluno e\n",
    "apresentar:\n",
    "- A mensagem \"Aprovado\", se a média alcançada for maior ou igual\n",
    "a sete;\n",
    "- A mensagem \"Reprovado\", se a média for menor do que sete;\n",
    "- A mensagem \"Aprovado com Distinção\", se a média for igual a\n",
    "dez."
   ]
  },
  {
   "cell_type": "code",
   "execution_count": 23,
   "metadata": {},
   "outputs": [
    {
     "name": "stdin",
     "output_type": "stream",
     "text": [
      "Digite a primeira nota 9.9\n",
      "Digite a segunda nota 10\n"
     ]
    },
    {
     "name": "stdout",
     "output_type": "stream",
     "text": [
      "9.95\n",
      "Aprovado seu sortudo! Comemore enquanto está respirando\n"
     ]
    }
   ],
   "source": [
    "notas = [float(input(\"Digite a primeira nota\")), float(input(\"Digite a segunda nota\"))]\n",
    "\n",
    "media = sum(notas)/2\n",
    "print (media)\n",
    "\n",
    "if media >= 7 and media < 10:\n",
    "    print(\"Aprovado seu sortudo! Comemore enquanto está respirando\")\n",
    "elif media < 7:\n",
    "    print(\"Reprovado... Tente outra vez...\")\n",
    "else:\n",
    "    print(\"'Aprovado com Distinção'. Olha só, alguém tirou 10. Que bom né?! Não mudará nada na sua vida\")"
   ]
  },
  {
   "cell_type": "markdown",
   "metadata": {},
   "source": [
    "5 . As Organizações Tabajara resolveram dar um aumento de salário\n",
    "aos seus colaboradores e lhe contrataram para desenvolver o\n",
    "programa que calculará os reajustes.\n",
    "Faça um programa que recebe o salário de um colaborador e o reajuste segundo o seguinte critério, baseado no salário atual\n",
    "- salários até R 280,00 (incluindo) : aumento de 20%\n",
    "- salarios entre R 280,00 e R 700,00 : aumento de 15%\n",
    "- salarios entre R 700,00 e R 1500,00 : aumento de 10%\n",
    "- salarios de R 1500,00 em diante : aumento de 5% Após o aumento ser realizado, informe na tela:\n",
    "- o salário antes do reajuste;\n",
    "- o percentual de aumento aplicado;\n",
    "- o valor do aumento;\n",
    "- o novo salário, após o aumento."
   ]
  },
  {
   "cell_type": "code",
   "execution_count": 29,
   "metadata": {},
   "outputs": [
    {
     "name": "stdin",
     "output_type": "stream",
     "text": [
      "Digite o salário do canalha 1203\n"
     ]
    },
    {
     "name": "stdout",
     "output_type": "stream",
     "text": [
      "Salário antes 1203.0\n",
      "Percentual de aumento aplicado Aumento de 10%\n",
      "Salário atual com aumento 1323.3\n",
      "Aumento recebido 120.30000000000001\n"
     ]
    }
   ],
   "source": [
    "sal = float(input(\"Digite o salário do canalha\"))\n",
    "\n",
    "if sal <= 280:\n",
    "    aum = sal*0.2\n",
    "    atu = sal + aum\n",
    "    perc = (\"Aumento de 20%\")\n",
    "elif sal > 280 and sal <= 700:\n",
    "    aum = sal*0.15\n",
    "    atu = sal + aum\n",
    "    perc = (\"Aumento de 15%\")\n",
    "elif sal > 700 and sal <= 1500:\n",
    "    aum = sal*0.10\n",
    "    atu = sal + aum\n",
    "    perc = (\"Aumento de 10%\")\n",
    "else:\n",
    "    aum = sal*0.5\n",
    "    atu = sal + aum\n",
    "    perc = (\"Aumento de 5%\")\n",
    "    \n",
    "    \n",
    "print(f\"Salário antes do reajuste {sal}\")\n",
    "print(f\"Percentual de aumento aplicado {perc}\")\n",
    "print(f\"Aumento recebido {aum}\")\n",
    "print(f\"Salário atual com aumento {atu}\")"
   ]
  },
  {
   "cell_type": "markdown",
   "metadata": {},
   "source": [
    "7 . Faça um programa que lê as duas notas parciais obtidas por um\n",
    "aluno numa disciplina ao longo de um semestre, e calcule a sua\n",
    "média. A atribuição de conceitos obedece à tabela abaixo\n",
    "<br/>\n",
    "<br/> Média de Aproveitamento Conceito\n",
    "<br/> Entre 9.0 e 10.0 <b>A</b>\n",
    "<br/> Entre 7.5 e 9.0<b> B</b>\n",
    "<br/> Entre 6.0 e 7.5<b> C</b>\n",
    "<br/> Entre 4.0 e 6.0<b> D</b>\n",
    "<br/> Entre 4.0 e zero <b>E</b>\n",
    "<br/>\n",
    "<br/>O algoritmo deve mostrar na tela as notas, a média, o conceito\n",
    "correspondente e a mensagem “APROVADO” se o conceito for A, B\n",
    "ou C ou “REPROVADO” se o conceito for D ou E.\n"
   ]
  },
  {
   "cell_type": "code",
   "execution_count": 5,
   "metadata": {},
   "outputs": [
    {
     "name": "stdin",
     "output_type": "stream",
     "text": [
      "Digite a primeira nota 10\n",
      "Digite a segunda nota 10\n"
     ]
    },
    {
     "name": "stdout",
     "output_type": "stream",
     "text": [
      "10.0\n",
      "O Aluno teve como notas [10.0, 10.0] , sua média foi de 10.0, seu conceito final é: A! Então, por decisão final dos jurados: 'A'PROVADO! Você é um gênio, agora tchau\n"
     ]
    }
   ],
   "source": [
    "notas = [float(input(\"Digite a primeira nota\")), float(input(\"Digite a segunda nota\"))]\n",
    "\n",
    "media = sum(notas)/2\n",
    "print (media)\n",
    "\n",
    "if media >= 9 and media <= 10:\n",
    "    letra = \"A\"\n",
    "    msg = \"'A'PROVADO! Você é um gênio, agora tchau\"\n",
    "    #print(\"Aprovado seu sortudo! Comemore enquanto está respirando\")\n",
    "elif media >= 7.5 and media < 9:\n",
    "    letra = \"B\"\n",
    "    msg = \"APROVADO! Quase um gênio, mas tá bom, não precisa se matar\"\n",
    "    #print(\"Reprovado... Tente outra vez...\")\n",
    "elif media >= 6 and media < 7.5:\n",
    "    letra = \"C\"\n",
    "    msg = \"APROVADO... Mas foi por pouco, pelo menos você tem saúde..... eu espero\"\n",
    "elif media >= 4 and media < 6:\n",
    "    letra = \"D\"\n",
    "    msg = \"REPROVADO! Deu ruim, tente outra vez\"\n",
    "else:\n",
    "    letra = \"E\"\n",
    "    msg = \"REPROVADO! Vish.... Good luck for the next time\"\n",
    "    #print(\"'Aprovado com Distinção'. Olha só, alguém tirou 10. Que bom né?! Não mudará nada na sua vida\")\n",
    "\n",
    "print(f\"O Aluno teve como notas {notas} , sua média foi de {media}, seu conceito final é: {letra}! Então, por decisão final dos jurados: {msg}\")"
   ]
  },
  {
   "cell_type": "markdown",
   "metadata": {},
   "source": [
    "9 . Faça um programa que calcule as raízes de uma equação do segundo grau, na forma ax2 + bx + c. O programa deverá pedir os valores de a, b e c e fazer as consistências, informando ao usuário nas seguintes situações </br>\n",
    "- Se o usuário informar o valor de A igual a zero, a equação não é do segundo grau e o programa não deve fazer pedir os demais valores, sendo encerrado;\n",
    "- Se o delta calculado for negativo, a equação não possui raizes reais. Informe ao usuário e encerre o programa;\n",
    "- Se o delta calculado for igual a zero a equação possui apenas uma raiz real; informe-a ao usuário;\n",
    "- Se o delta for positivo, a equação possui duas raiz reais; informeas ao usuário;\n"
   ]
  },
  {
   "cell_type": "code",
   "execution_count": 2,
   "metadata": {},
   "outputs": [
    {
     "name": "stdin",
     "output_type": "stream",
     "text": [
      "Digite um numero para 'a' 1\n",
      "Digite um numero para 'b' -5\n",
      "Digite um numero para 'c' 6\n"
     ]
    },
    {
     "name": "stdout",
     "output_type": "stream",
     "text": [
      "Delta é maior que zero, então possui duas raizes, sendo elas 3.0 e 2.0\n"
     ]
    }
   ],
   "source": [
    "a = float(input(\"Digite um numero para 'a'\"))\n",
    "if a > 0:\n",
    "    b = float(input(\"Digite um numero para 'b'\"))\n",
    "    c = float(input(\"Digite um numero para 'c'\"))\n",
    "    \n",
    "    delta = (b**2) - (4*a*c)\n",
    "    \n",
    "    if delta < 0:\n",
    "        print (\"Delta é negativo o seu imbecil, então não tem raiz, é isso.\")\n",
    "    elif delta == 0:\n",
    "        x = -b /2*a\n",
    "        print (f\"Delta é igual a zero, então possui apenas uma raiz, sendo ela {x}\")\n",
    "    else:\n",
    "        xp = ((-b) + (delta)) /2*a\n",
    "        xn = ((-b) - (delta)) /2*a\n",
    "        print (f\"Delta é maior que zero, então possui duas raizes, sendo elas {xp} e {xn}\")\n",
    "    \n",
    "else:\n",
    "    print(\"A foi menor ou igual a zero, então encerraremos o código\")"
   ]
  },
  {
   "cell_type": "markdown",
   "metadata": {},
   "source": [
    "11 . Faça um programa que faça 5 perguntas para uma pessoa sobre um crime. As perguntas são\n",
    "</br>\"Telefonou para a vítima?\"\n",
    "</br>\"Esteve no local do crime?\"\n",
    "</br>\"Mora perto da vítima?\"\n",
    "</br>\"Devia para a vítima?\"\n",
    "</br>\"Já trabalhou com a vítima?\"</br>\n",
    "O programa deve no fnal emitir uma classifcação sobre a participação da pessoa no crime. Se a pessoa responder positivamente a 2 questões ela deve ser classifcada como \"Suspeita\", entre 3 e 4 como \"Cúmplice\" e 5 como \"Assassino\". Caso contrário, ele será classifcado como \"Inocente\".\n"
   ]
  },
  {
   "cell_type": "code",
   "execution_count": 2,
   "metadata": {},
   "outputs": [
    {
     "name": "stdin",
     "output_type": "stream",
     "text": [
      "Telefonou para a vítima? s/n s\n",
      "Esteve no local do crime? s/n s\n",
      "Mora perto da vítima? s/n s\n",
      "Devia para a vítima? s/n s\n",
      "Já trabalhou com a vítima? s/n s\n"
     ]
    },
    {
     "name": "stdout",
     "output_type": "stream",
     "text": [
      "Assassino\n"
     ]
    }
   ],
   "source": [
    "r = 0\n",
    "q1 = input(\"Telefonou para a vítima? s/n\")\n",
    "if q1 == \"s\":\n",
    "    r = r + 1\n",
    "else:\n",
    "    pass\n",
    "q2 = input(\"Esteve no local do crime? s/n\")\n",
    "if q2 == \"s\":14. Faça um programa que leia 5 números e informe o maior\n",
    "número.\n",
    "else:\n",
    "    pass\n",
    "q3 = input(\"Mora perto da vítima? s/n\")\n",
    "if q3 == \"s\":\n",
    "    r = r + 1\n",
    "else:\n",
    "    pass\n",
    "q4 = input(\"Devia para a vítima? s/n\")\n",
    "if q4 == \"s\":\n",
    "    r = r + 1\n",
    "else:\n",
    "    pass\n",
    "q5 = input(\"Já trabalhou com a vítima? s/n\")\n",
    "if q5 == \"s\":\n",
    "    r = r + 1\n",
    "else:\n",
    "    pass\n",
    "\n",
    "if r == 2:\n",
    "    print(\"Suspeita!\")\n",
    "elif r == 3 or r == 4:\n",
    "    print(\"Cúmplice\")\n",
    "elif r == 5:\n",
    "    print(\"Assassino\")\n",
    "else:\n",
    "    print(\"Inocente\")\n",
    " "
   ]
  },
  {
   "cell_type": "markdown",
   "metadata": {},
   "source": [
    "13 . Faça um programa que peça uma nota, entre zero e dez. Mostre uma mensagem caso o valor seja inválido e continue pedindo até que o usuário informe um valor válido."
   ]
  },
  {
   "cell_type": "code",
   "execution_count": 4,
   "metadata": {},
   "outputs": [
    {
     "name": "stdin",
     "output_type": "stream",
     "text": [
      "Digite uma nota entre Zero e Dez 20\n",
      "O valor que digitou é um valor inválido. Por favor, digite uma nota entre Zero e Dez 10\n"
     ]
    },
    {
     "name": "stdout",
     "output_type": "stream",
     "text": [
      "Obrigado! Volte nunca\n"
     ]
    }
   ],
   "source": [
    "nota = float(input(\"Digite uma nota entre Zero e Dez\"))\n",
    "while nota < 0 or nota > 10:\n",
    "    nota = float(input(\"O valor que digitou é um valor inválido. Por favor, digite uma nota entre Zero e Dez\"))\n",
    "else:\n",
    "    print(\"Obrigado! Volte nunca\")"
   ]
  },
  {
   "cell_type": "markdown",
   "metadata": {},
   "source": [
    "14 . Faça um programa que leia 5 números e informe o maior número."
   ]
  },
  {
   "cell_type": "code",
   "execution_count": 9,
   "metadata": {},
   "outputs": [
    {
     "name": "stdin",
     "output_type": "stream",
     "text": [
      "Número:  4\n",
      "Número:  5\n",
      "Número:  8\n",
      "Número:  1\n",
      "Número:  2\n"
     ]
    },
    {
     "name": "stdout",
     "output_type": "stream",
     "text": [
      "Maior número foi 8.0\n"
     ]
    }
   ],
   "source": [
    "numeros = [float(input(\"Número: \")) for i in range(5)]\n",
    "\n",
    "print(f\"Maior número foi {max(numeros)}\")"
   ]
  },
  {
   "cell_type": "markdown",
   "metadata": {},
   "source": [
    "16 . Faça um programa que imprima na tela apenas os números ímpares entre 1 e 50."
   ]
  },
  {
   "cell_type": "code",
   "execution_count": 18,
   "metadata": {},
   "outputs": [
    {
     "name": "stdout",
     "output_type": "stream",
     "text": [
      "1\n",
      "3\n",
      "5\n",
      "7\n",
      "9\n",
      "11\n",
      "13\n",
      "15\n",
      "17\n",
      "19\n",
      "21\n",
      "23\n",
      "25\n",
      "27\n",
      "29\n",
      "31\n",
      "33\n",
      "35\n",
      "37\n",
      "39\n",
      "41\n",
      "43\n",
      "45\n",
      "47\n",
      "49\n"
     ]
    }
   ],
   "source": [
    "for i in range(1,50,2):\n",
    "    print (i)"
   ]
  },
  {
   "cell_type": "markdown",
   "metadata": {},
   "source": [
    "18 . A série de Fibonacci é formada pela seqüência 1,1,2,3,5,8,13,21,34,55,... Faça um programa capaz de gerar a série até o n−ésimo termo.\n"
   ]
  },
  {
   "cell_type": "code",
   "execution_count": 69,
   "metadata": {},
   "outputs": [
    {
     "name": "stdin",
     "output_type": "stream",
     "text": [
      "Digite o termo que queira descobrir na sequência Fibonacci:  3\n"
     ]
    },
    {
     "name": "stdout",
     "output_type": "stream",
     "text": [
      "1\n",
      "1\n",
      "2\n"
     ]
    }
   ],
   "source": [
    "n = int (input(\"Digite o termo que queira descobrir na sequência Fibonacci: \"))\n",
    "i = 0\n",
    "b = 1\n",
    "if n > 0:\n",
    "    print (b)\n",
    "    i = i + 1\n",
    "    a = b\n",
    "while i < n:\n",
    "    print (b)\n",
    "    b = a + b\n",
    "    a = b - a\n",
    "    i = i + 1"
   ]
  },
  {
   "cell_type": "markdown",
   "metadata": {},
   "source": [
    "20 . O Sr. Manoel Joaquim possui uma grande loja de artigos de RS 1,99, com cerca de 10 caixas. Para agilizar o cálculo de quanto cada cliente deve pagar ele desenvolveu um tabela que contém o número de itens que o cliente comprou e ao lado o valor da conta. Desta forma a atendente do caixa precisa apenas contar quantos itens o cliente está levando e olhar na tabela de preços. Você foi contratado para desenvolver o programa que monta esta tabela de preços, que conterá os preços de 1 até 50 produtos, conforme o exemplo abaixo:\n",
    "Lojas Quase Dois - Tabela de preços\n",
    "</br>1 - RS 1.99\n",
    "</br>2 - RS 3.98\n",
    "</br>...</br>\n",
    "50 - RS 99.50"
   ]
  },
  {
   "cell_type": "code",
   "execution_count": 78,
   "metadata": {},
   "outputs": [
    {
     "name": "stdout",
     "output_type": "stream",
     "text": [
      "1 - R$ 1.99\n",
      "2 - R$ 3.98\n",
      "3 - R$ 5.97\n",
      "4 - R$ 7.96\n",
      "5 - R$ 9.95\n",
      "6 - R$ 11.94\n",
      "7 - R$ 13.93\n",
      "8 - R$ 15.92\n",
      "9 - R$ 17.91\n",
      "10 - R$ 19.9\n",
      "11 - R$ 21.89\n",
      "12 - R$ 23.88\n",
      "13 - R$ 25.87\n",
      "14 - R$ 27.86\n",
      "15 - R$ 29.85\n",
      "16 - R$ 31.84\n",
      "17 - R$ 33.83\n",
      "18 - R$ 35.82\n",
      "19 - R$ 37.81\n",
      "20 - R$ 39.8\n",
      "21 - R$ 41.79\n",
      "22 - R$ 43.78\n",
      "23 - R$ 45.77\n",
      "24 - R$ 47.76\n",
      "25 - R$ 49.75\n",
      "26 - R$ 51.74\n",
      "27 - R$ 53.73\n",
      "28 - R$ 55.72\n",
      "29 - R$ 57.71\n",
      "30 - R$ 59.7\n",
      "31 - R$ 61.69\n",
      "32 - R$ 63.68\n",
      "33 - R$ 65.67\n",
      "34 - R$ 67.66\n",
      "35 - R$ 69.65\n",
      "36 - R$ 71.64\n",
      "37 - R$ 73.63\n",
      "38 - R$ 75.62\n",
      "39 - R$ 77.61\n",
      "40 - R$ 79.6\n",
      "41 - R$ 81.59\n",
      "42 - R$ 83.58\n",
      "43 - R$ 85.57\n",
      "44 - R$ 87.56\n",
      "45 - R$ 89.55\n",
      "46 - R$ 91.54\n",
      "47 - R$ 93.53\n",
      "48 - R$ 95.52\n",
      "49 - R$ 97.51\n",
      "50 - R$ 99.5\n"
     ]
    }
   ],
   "source": [
    "for i in range(1,51):\n",
    "    print (i, \"- R$\", i*1.99)"
   ]
  },
  {
   "cell_type": "markdown",
   "metadata": {},
   "source": [
    "22 . O Sr. Manoel Joaquim expandiu seus negócios para além dos negócios de 1,99 e agora possui uma loja de conveniências. Faça um programa que implemente uma caixa registradora rudimentar. O programa deverá receber um número desconhecido de valores referentes aos preços das mercadorias. Um valor zero deve ser informado pelo operador para indicar o fnal da compra. O programa deve então mostrar o total da compra e perguntar o valor em dinheiro que o cliente forneceu, para então calcular e mostrar o valor do troco. Após esta operação, o programa deverá voltar ao ponto inicial, para registrar a próxima compra. A saída deve ser conforme o exemplo abaixo:\n",
    "</br>Lojas Tabajara\n",
    "</br>Produto 1: RS 2.20\n",
    "</br>Produto 2: RS 5.80\n",
    "</br>Produto 3: RS 0\n",
    "</br>Total: RS 9.00\n",
    "</br>Dinheiro: RS 20.00\n",
    "</br>Troco: RS 11.00\n",
    "</br>...\n"
   ]
  },
  {
   "cell_type": "code",
   "execution_count": 1,
   "metadata": {},
   "outputs": [
    {
     "name": "stdin",
     "output_type": "stream",
     "text": [
      "Digite o preço do Produto 1: R$ 3\n",
      "Digite o preço do Produto 2: R$ 5\n",
      "Digite o preço do Produto 3: R$ 4\n",
      "Digite o preço do Produto 4: R$ 0\n"
     ]
    },
    {
     "name": "stdout",
     "output_type": "stream",
     "text": [
      "Teste\n",
      "O total da compra foi: R$ 12.0\n"
     ]
    },
    {
     "name": "stdin",
     "output_type": "stream",
     "text": [
      "Digite a quantia de dinheiro que irá usar para pagar. R$ 15\n"
     ]
    },
    {
     "name": "stdout",
     "output_type": "stream",
     "text": [
      "Troco da compra será: R$ 3.0\n"
     ]
    }
   ],
   "source": [
    "prod = []\n",
    "num = 1\n",
    "while True:\n",
    "    preco = float(input(f\"Digite o preço do Produto {num}: R$\"))\n",
    "    if preco > 0:\n",
    "        num += 1\n",
    "        prod.append(preco)\n",
    "    else:\n",
    "        print(\"Teste\")\n",
    "        break\n",
    "#print(prod)\n",
    "print(\"O total da compra foi: R$\",sum(prod))\n",
    "pag = float(input(\"Digite a quantia de dinheiro que irá usar para pagar. R$\"))\n",
    "print(\"Troco da compra será: R$\", pag-sum(prod))\n"
   ]
  },
  {
   "cell_type": "markdown",
   "metadata": {},
   "source": [
    "24 . Faça um programa que receba o valor de uma dívida e mostre uma tabela com os seguintes dados: valor da dívida, valor dos juros, quantidade de parcelas e valor da parcela. Os juros e a quantidade de parcelas seguem a tabela abaixo: Quantidade de Parcelas % de Juros sobre o valor inicial da dívida </br>\n",
    "1 -------- 0</br>\n",
    "3 -------- 10</br>\n",
    "6 -------- 15</br>\n",
    "9 -------- 20</br>\n",
    "12 ------- 25</br>\n",
    "Exemplo de saída do programa:</br>\n",
    "Valor da Dívida ----- Valor dos Juros ------ Quantidade de Parcelas ------ Valor da Parcela</br>\n",
    "RS 1.000,00 ------------- 0 ----------------------------- 1 ------------------- RS 1.000,00</br>\n",
    "RS 1.100,00 ------------ 100 ---------------------------- 3 ------------------- RS 366,00</br>\n",
    "RS 1.150,00 ------------ 150 ---------------------------- 6 ------------------- RS 191,67"
   ]
  },
  {
   "cell_type": "code",
   "execution_count": null,
   "metadata": {},
   "outputs": [],
   "source": [
    "#Não consegui fazer, nem entendi direito"
   ]
  }
 ],
 "metadata": {
  "kernelspec": {
   "display_name": "Python 3",
   "language": "python",
   "name": "python3"
  },
  "language_info": {
   "codemirror_mode": {
    "name": "ipython",
    "version": 3
   },
   "file_extension": ".py",
   "mimetype": "text/x-python",
   "name": "python",
   "nbconvert_exporter": "python",
   "pygments_lexer": "ipython3",
   "version": "3.6.6"
  }
 },
 "nbformat": 4,
 "nbformat_minor": 2
}
