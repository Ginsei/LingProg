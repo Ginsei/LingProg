{
 "cells": [
  {
   "cell_type": "markdown",
   "metadata": {},
   "source": [
    "<h1>Exercicios Aula 5</h1>"
   ]
  },
  {
   "cell_type": "markdown",
   "metadata": {},
   "source": [
    "<b>1 Linha</b>: Crie a classe Linha que tem dois atributos, coordenada1 e coordenada2. Cada coordenada é uma tupla que carrega duas coordenadas cartesianas (x,y) que denotam pontos do segmento de reta. Faça métodos que calculem o comprimento do segmento de reta e sua inclinação."
   ]
  },
  {
   "cell_type": "code",
   "execution_count": 149,
   "metadata": {},
   "outputs": [
    {
     "name": "stdin",
     "output_type": "stream",
     "text": [
      "Digite o X1 da Coordenada 1 =  1\n",
      "Digite o Y1 da Coordenada 1 =  2\n",
      "Digite o X2 da Coordenada 2 =  3\n",
      "Digite o Y2 da Coordenada 2 =  4\n"
     ]
    },
    {
     "name": "stdout",
     "output_type": "stream",
     "text": [
      "O ponto de segmento de reta é de  2.8284271247461903 E sua inclinação é de  1.0\n"
     ]
    }
   ],
   "source": [
    "#Maldito seja essa droga de IMPORT MATH, que fez eu perder horas nessa droga sendo que já tinha conseguido fazer. T.I Não é de Deus, quero desistir desse curso, obrigado.\n",
    "import math\n",
    "class Linha:\n",
    "    def __init__(self, cor1, cor2):\n",
    "        self.cor1 = cor1\n",
    "        self.cor2 = cor2\n",
    "        \n",
    "    def formula(self):\n",
    "        return math.sqrt(((x2 - x1)**2) + ((y2 - y1)**2))\n",
    "    \n",
    "    def inclinacao(self):\n",
    "        return ((y2 - y1) / (x2 - x1))\n",
    "        \n",
    "x1 = int(input(\"Digite o X1 da Coordenada 1 = \"))\n",
    "y1 = int(input(\"Digite o Y1 da Coordenada 1 = \"))\n",
    "x2 = int(input(\"Digite o X2 da Coordenada 2 = \"))\n",
    "y2 = int(input(\"Digite o Y2 da Coordenada 2 = \"))\n",
    "\n",
    "\n",
    "c = Linha(cor1=(x1,y1), cor2=(x2,y2));\n",
    "print (\"O ponto de segmento de reta é de \", c.formula(), \"E sua inclinação é de \", c.inclinacao())\n",
    "#Quanto aos outros exercicios eu infelizmente passo, não entendi como fazer a 2 e a três eu realmente tô com muita preguiça e desanimo depois dessa 1 aqui. Ter que pensar muito com pouco tempo sobrando, não, valeu~"
   ]
  },
  {
   "cell_type": "code",
   "execution_count": 6,
   "metadata": {},
   "outputs": [
    {
     "name": "stdout",
     "output_type": "stream",
     "text": [
      "(1, 2)\n",
      "(3, 4)\n",
      "4\n"
     ]
    },
    {
     "ename": "NameError",
     "evalue": "name 'math' is not defined",
     "output_type": "error",
     "traceback": [
      "\u001b[0;31m---------------------------------------------------------------------------\u001b[0m",
      "\u001b[0;31mNameError\u001b[0m                                 Traceback (most recent call last)",
      "\u001b[0;32m<ipython-input-6-f270b6751d69>\u001b[0m in \u001b[0;36m<module>\u001b[0;34m()\u001b[0m\n\u001b[1;32m      2\u001b[0m \u001b[0mprint\u001b[0m\u001b[0;34m(\u001b[0m\u001b[0mc\u001b[0m\u001b[0;34m.\u001b[0m\u001b[0mcor2\u001b[0m\u001b[0;34m)\u001b[0m \u001b[0;31m#funciona para mostrar o que tem\u001b[0m\u001b[0;34m\u001b[0m\u001b[0m\n\u001b[1;32m      3\u001b[0m \u001b[0mprint\u001b[0m \u001b[0;34m(\u001b[0m\u001b[0mx1\u001b[0m \u001b[0;34m+\u001b[0m \u001b[0mx2\u001b[0m\u001b[0;34m)\u001b[0m\u001b[0;34m\u001b[0m\u001b[0m\n\u001b[0;32m----> 4\u001b[0;31m \u001b[0mprint\u001b[0m\u001b[0;34m(\u001b[0m\u001b[0mc\u001b[0m\u001b[0;34m.\u001b[0m\u001b[0mformula\u001b[0m\u001b[0;34m(\u001b[0m\u001b[0;34m)\u001b[0m\u001b[0;34m)\u001b[0m\u001b[0;34m\u001b[0m\u001b[0m\n\u001b[0m",
      "\u001b[0;32m<ipython-input-4-71d94ac44f6f>\u001b[0m in \u001b[0;36mformula\u001b[0;34m(self)\u001b[0m\n\u001b[1;32m      5\u001b[0m \u001b[0;34m\u001b[0m\u001b[0m\n\u001b[1;32m      6\u001b[0m     \u001b[0;32mdef\u001b[0m \u001b[0mformula\u001b[0m\u001b[0;34m(\u001b[0m\u001b[0mself\u001b[0m\u001b[0;34m)\u001b[0m\u001b[0;34m:\u001b[0m\u001b[0;34m\u001b[0m\u001b[0m\n\u001b[0;32m----> 7\u001b[0;31m         \u001b[0;32mreturn\u001b[0m \u001b[0mmath\u001b[0m\u001b[0;34m.\u001b[0m\u001b[0msqrt\u001b[0m\u001b[0;34m(\u001b[0m\u001b[0;34m(\u001b[0m\u001b[0;34m(\u001b[0m\u001b[0mx2\u001b[0m \u001b[0;34m-\u001b[0m \u001b[0mx1\u001b[0m\u001b[0;34m)\u001b[0m\u001b[0;34m**\u001b[0m\u001b[0;36m2\u001b[0m\u001b[0;34m)\u001b[0m \u001b[0;34m+\u001b[0m \u001b[0;34m(\u001b[0m\u001b[0;34m(\u001b[0m\u001b[0my2\u001b[0m \u001b[0;34m-\u001b[0m \u001b[0my1\u001b[0m\u001b[0;34m)\u001b[0m\u001b[0;34m**\u001b[0m\u001b[0;36m2\u001b[0m\u001b[0;34m)\u001b[0m\u001b[0;34m)\u001b[0m\u001b[0;34m\u001b[0m\u001b[0m\n\u001b[0m\u001b[1;32m      8\u001b[0m \u001b[0;34m\u001b[0m\u001b[0m\n\u001b[1;32m      9\u001b[0m \u001b[0mx1\u001b[0m \u001b[0;34m=\u001b[0m \u001b[0mint\u001b[0m\u001b[0;34m(\u001b[0m\u001b[0minput\u001b[0m\u001b[0;34m(\u001b[0m\u001b[0;34m\"Digite o X1 da Coordenada 1 = \"\u001b[0m\u001b[0;34m)\u001b[0m\u001b[0;34m)\u001b[0m\u001b[0;34m\u001b[0m\u001b[0m\n",
      "\u001b[0;31mNameError\u001b[0m: name 'math' is not defined"
     ]
    }
   ],
   "source": [
    "print(c.cor1) #funciona para mostrar o que tem\n",
    "print(c.cor2) #funciona para mostrar o que tem\n",
    "print (x1 + x2)\n",
    "print(c.formula())"
   ]
  },
  {
   "cell_type": "markdown",
   "metadata": {},
   "source": [
    "<b>2 Figuras:</b> Crie a seguinte hierarquia de classes de figuras geométricas.</br>\n",
    "a. A classe abstrata Figura deve ter o método abstrato area.</br>\n",
    "b. A classe concreta Circulo é subclasse de Figura.</br>\n",
    "c. A classe abstrata Poligono é subclasse de Figura e deve ter os atributos base e altura.</br>\n",
    "d. As classes concretas Triangulo, Losango, Retangulo e Quadrado são subclasses de Poligono. Tente criar mais uma generalização aqui olhando as fórmulas da área.</br>\n",
    "e. Os polígonos Retangulo e Quadrado devem implementar a interface Diagonal, que deve ter um método que calcula a diagonal.</br>\n",
    "f. Crie uma classe Geometria com uma lista de Figuras com pelo menos uma figura de cada e imprima suas áreas, perímetros e diagonais.\n"
   ]
  },
  {
   "cell_type": "code",
   "execution_count": null,
   "metadata": {},
   "outputs": [],
   "source": []
  },
  {
   "cell_type": "markdown",
   "metadata": {},
   "source": [
    "<b>3 Jogo de Blackjack:</b> Faça um joguinho simples em Python.</br>\n",
    "Aqui estão os requisitos:</br>\n",
    "- Você precisa criar um jogo de BlackJack (21g baseado em texto simples</br>\n",
    "- O jogo precisa ter um jogador contra um croupier automatzado.</br>\n",
    "- O jogador pode desistr ou bater.</br>\n",
    "- O jogador deve ser capaz de escolher o seu valor de aposta.</br>\n",
    "- Você precisa acompanhar o dinheiro total do jogador.</br>\n",
    "- Você precisa alertar o jogador de vitórias, derrotas ou estouros, etc ...</br>\n",
    "E o mais importante:</br>\n",
    "Você deve usar OOP e classes em alguma parte do seu jogo. Você não pode simplesmente usar funções no seu jogo. Use classes para ajudá-lo a definir o deck e a mão do jogador. Há muitas maneiras certas de fazer isso, então explore bem!"
   ]
  },
  {
   "cell_type": "code",
   "execution_count": null,
   "metadata": {},
   "outputs": [],
   "source": []
  }
 ],
 "metadata": {
  "kernelspec": {
   "display_name": "Python 3",
   "language": "python",
   "name": "python3"
  },
  "language_info": {
   "codemirror_mode": {
    "name": "ipython",
    "version": 3
   },
   "file_extension": ".py",
   "mimetype": "text/x-python",
   "name": "python",
   "nbconvert_exporter": "python",
   "pygments_lexer": "ipython3",
   "version": "3.6.6"
  }
 },
 "nbformat": 4,
 "nbformat_minor": 2
}
