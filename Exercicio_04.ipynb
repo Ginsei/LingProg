{
 "cells": [
  {
   "cell_type": "markdown",
   "metadata": {},
   "source": [
    "2 Mesma letra: Escreva uma função que receba uma string com duas palavras e\n",
    "retorne True se ambas palavras começarem com a mesma letra. Exemplo: </br>\n",
    "mesma_letra('Cão covarde') -> True </br>\n",
    "mesma_letra('Vira Lata') -> False"
   ]
  },
  {
   "cell_type": "code",
   "execution_count": 7,
   "metadata": {},
   "outputs": [
    {
     "name": "stdout",
     "output_type": "stream",
     "text": [
      "True\n"
     ]
    }
   ],
   "source": [
    "def comecam_com_a_mesma_letra (palavra):\n",
    "    partes = palavra.split(\" \")\n",
    "    if partes[0][0].upper() == partes[1][0].upper():\n",
    "        return True\n",
    "    return False\n",
    "\n",
    "#print (comecam_com_a_mesma_letra(\"Cão covarde\"))\n",
    "resultado1 = comecam_com_a_mesma_letra(\"Cão covarde\")\n",
    "resultado2 = comecam_com_a_mesma_letra(\"Vira Lata\")\n",
    "print(resultado1)"
   ]
  },
  {
   "cell_type": "code",
   "execution_count": null,
   "metadata": {},
   "outputs": [],
   "source": [
    "def def comecam_com_a_mesma_letra (palavra):\n",
    "    partes = palavra.split (\" \")\n",
    "    return True if partes[0][0] == partes[1][0] else False"
   ]
  },
  {
   "cell_type": "markdown",
   "metadata": {},
   "source": [
    "4 Tem 33: Faça uma função que retorne True se, dada uma lista de inteiros, houver em alguma posição da lista um 3 do lado de outro 3. Exemplo: </br>\n",
    "tem_33([1,3,3]) --> True </br>\n",
    "tem_33([1,3,1,3]) --> False </br>\n",
    "tem_33([3,1,3]) --> False\n"
   ]
  },
  {
   "cell_type": "code",
   "execution_count": 11,
   "metadata": {},
   "outputs": [
    {
     "name": "stdout",
     "output_type": "stream",
     "text": [
      "True\n",
      "False\n",
      "True\n"
     ]
    }
   ],
   "source": [
    "def tem_33 (lista):\n",
    "    status = \"Nada\"\n",
    "    for simbolo in lista:\n",
    "        if simbolo == 3:\n",
    "            if status == \"Nada\":\n",
    "                status = \"Três\"\n",
    "            elif status == \"Três\":\n",
    "                return True\n",
    "        else:\n",
    "            if status == \"Três\":\n",
    "                status = \"Nada\"\n",
    "    return False\n",
    "\n",
    "print(tem_33([3, 3, 1]))\n",
    "print(tem_33([3, 1, 3]))\n",
    "print(tem_33([3, 1, 3, 1, 3, 3]))"
   ]
  },
  {
   "cell_type": "markdown",
   "metadata": {},
   "source": [
    "5 Blackjack: Faça uma função que receba 3 inteiros entre 1 e 11. Se a soma deles for menor que 21, retorne o valor da soma. Se for mair do que 21 e houver um 11, subtraia 10 da soma antes de apresentar o resultado. Se o valor da soma passar de 21, retorne ‘ESTOUROU’. Exemplo: </br>\n",
    "blackjack(5,6,7) --> 18</br>\n",
    "blackjack(9,9,9) --> 'ESTOUROU'</br>\n",
    "blackjack(9,9,11) --> 19\n"
   ]
  },
  {
   "cell_type": "code",
   "execution_count": 4,
   "metadata": {},
   "outputs": [
    {
     "name": "stdout",
     "output_type": "stream",
     "text": [
      "18\n",
      "ESTOUROU!!, 27\n",
      "19\n"
     ]
    }
   ],
   "source": [
    "def blackjack (a, b, c):\n",
    "    soma = a + b + c\n",
    "    if soma <= 21:\n",
    "        return soma\n",
    "    else:\n",
    "        if 11 in [a, b, c]:\n",
    "            return soma - 10\n",
    "        return (f\"ESTOUROU!! {soma}\")\n",
    "    \n",
    "print(blackjack(5,6,7))\n",
    "print(blackjack(9,9,9))\n",
    "print(blackjack(9,9,11))"
   ]
  },
  {
   "cell_type": "markdown",
   "metadata": {},
   "source": [
    "<h1><b>ENTREGA EXERCICIOS IMPARES (E o 6!)!!!</b></h1>"
   ]
  },
  {
   "cell_type": "markdown",
   "metadata": {},
   "source": [
    "<h4>1</h4> Menor de dois pares: Escreva uma função que retorne o menor de dois números dados se ambos os números forem pares, mas retorna o maior se um dos dois for ímpar. Exemplo: </br>\n",
    "menor_de_dois_pares(2,4) --> 2</br>\n",
    "menor_de_dois_pares (2,5) --> 5\n",
    "\n"
   ]
  },
  {
   "cell_type": "code",
   "execution_count": 17,
   "metadata": {},
   "outputs": [
    {
     "name": "stdout",
     "output_type": "stream",
     "text": [
      "2\n",
      "5\n",
      "5\n",
      "2\n",
      "4\n"
     ]
    }
   ],
   "source": [
    "def menorPar (a, b):\n",
    "    return min(a,b) if a % 2 == 0 and b % 2 == 0 else max(a,b)\n",
    "    #    return min(a,b)\n",
    "    #else:\n",
    "    #    return max(a,b)\n",
    "\n",
    "print(menorPar(2,6))\n",
    "print(menorPar(2,5))\n",
    "print(menorPar(5,2))\n",
    "print(menorPar(1,2))\n",
    "print(menorPar(4,6))"
   ]
  },
  {
   "cell_type": "markdown",
   "metadata": {},
   "source": [
    "<h4>3</h4> Mestre Yoda: Dada uma sentença, a função deve retornar a sentença com as palavras na ordem reversa. Exemplo: </br>\n",
    "mestre_yoda('Eu estou em casa') --> 'casa em estou Eu' </br>\n",
    "mestre_yoda('Estamos prontos') --> 'prontos Estamos'\n"
   ]
  },
  {
   "cell_type": "code",
   "execution_count": 24,
   "metadata": {},
   "outputs": [
    {
     "name": "stdout",
     "output_type": "stream",
     "text": [
      "['casa', 'em', 'estou', 'Eu']\n",
      "['prontos', 'Estamos']\n"
     ]
    }
   ],
   "source": [
    "def reverse(frase):\n",
    "    partes = frase.split(\" \")\n",
    "    return partes[::-1]\n",
    "\n",
    "print(reverse(\"Eu estou em casa\"))\n",
    "print(reverse(\"Estamos prontos\"))"
   ]
  },
  {
   "cell_type": "markdown",
   "metadata": {},
   "source": [
    "<h4>6</h4> Espião: Escreva uma função que receba uma lista de inteiros e retorne True se contém um 007 em ordem, mesmo que não contínuo. Exemplo: </br>\n",
    "espiao([1,2,4,0,0,7,5]) --> True</br>\n",
    "espiao([1,0,2,4,0,5,7]) --> True</br>\n",
    "espiao([1,7,2,4,0,5,0]) --> False"
   ]
  },
  {
   "cell_type": "code",
   "execution_count": 34,
   "metadata": {},
   "outputs": [
    {
     "name": "stdout",
     "output_type": "stream",
     "text": [
      "True\n",
      "True\n",
      "False\n",
      "True\n"
     ]
    }
   ],
   "source": [
    "def espiao(lista):\n",
    "    status = \"Nada\"\n",
    "    for num in lista:\n",
    "        if num == 0:\n",
    "            if status == \"Nada\":\n",
    "                status = \"0\"\n",
    "            elif status == \"0\":\n",
    "                status = \"00\"\n",
    "        elif num == 7:\n",
    "            if status == \"00\":\n",
    "                return True\n",
    "    return False\n",
    "\n",
    "print(espiao([1,2,4,0,0,7,5]))\n",
    "print(espiao([1,0,4,1,0,7,5]))\n",
    "print(espiao([1,4,0,0,5]))\n",
    "print(espiao([0,0,7]))"
   ]
  }
 ],
 "metadata": {
  "kernelspec": {
   "display_name": "Python 3",
   "language": "python",
   "name": "python3"
  },
  "language_info": {
   "codemirror_mode": {
    "name": "ipython",
    "version": 3
   },
   "file_extension": ".py",
   "mimetype": "text/x-python",
   "name": "python",
   "nbconvert_exporter": "python",
   "pygments_lexer": "ipython3",
   "version": "3.6.6"
  }
 },
 "nbformat": 4,
 "nbformat_minor": 2
}
